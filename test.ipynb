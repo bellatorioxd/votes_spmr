{
  "metadata": {
    "language_info": {
      "codemirror_mode": {
        "name": "python",
        "version": 3
      },
      "file_extension": ".py",
      "mimetype": "text/x-python",
      "name": "python",
      "nbconvert_exporter": "python",
      "pygments_lexer": "ipython3",
      "version": "3.8"
    },
    "kernelspec": {
      "name": "python",
      "display_name": "Python (Pyodide)",
      "language": "python"
    }
  },
  "nbformat_minor": 4,
  "nbformat": 4,
  "cells": [
    {
      "cell_type": "code",
      "source": "list_of_candidates_start=[\"a\", \"b\", \"c\", \"d\", \"e\"]\nmain_arr=[\n    [\"\", 3, 5, 7, 9, 11, 13, 15],\n    [4, \"a\", \"b\", \"a\", \"c\", \"d\", \"d\", \"e\"],\n    [3, \"b\", \"d\", \"b\", \"d\", \"e\", \"b\", \"d\"],\n    [2, \"c\", \"e\", \"e\", \"e\", \"a\", \"c\", \"c\"],\n    [1, \"d\", \"c\", \"c\", \"a\", \"b\", \"a\", \"b\"],\n    [0, \"e\", \"a\", \"d\", \"b\", \"c\", \"e\", \"a\"]]\n\nall_cand = (sum(num for num in main_arr[0][0] if num.isdigit()))\n\ndef vidnosna_bilshist(array):\n    points = array[1][0]\n    list_of_candidates=array[1][1:]\n    res={}\n    for element in list_of_candidates_start:\n        res[element] = 0\n        i=0\n        for elem in list_of_candidates:\n                if elem == element:\n                    res[element]+=array[0][i+1]\n                i+=1\n    winner_value=max(res.values())\n    winner = list(res.keys())[list(res.values()).index(winner_value)]\n    return res, winner\n\ndef kondorse(array):\n    kondorse_dict={}\n    new_array=[]\n    columns=[]\n    for elem in array:\n        new_array.append(elem[1:])\n    for i in range(0, len(new_array[0])):\n        one_col=[]\n        for elem in new_array:\n            one_col.append(elem[i])\n        columns.append(one_col)\n    for element in list_of_candidates_start:\n        kondorse_dict[element] = []\n    def compare_two( elem_1,elem_2):\n        res_1_more_2 = 0\n        res_2_more_1 = 0\n        for col in columns:\n            if col.index(elem_1) < col.index(elem_2):\n                res_1_more_2 += col[0]\n            elif col.index(elem_1) > col.index(elem_2):\n                res_2_more_1 +=col[0]\n        return res_1_more_2\n    for elem in list_of_candidates_start:\n        combinations_lst = [(elem, item) for item in list_of_candidates_start]\n        for pair in combinations_lst:\n            kondorse_dict[elem].append(compare_two(pair[0], pair[1]))\n    for value in kondorse_dict.values():\n        if all(num > all_cand/2 or num==0 for num in value):\n            winner = list(kondorse_dict.keys())[list(kondorse_dict.values()).index(value)]\n    return kondorse_dict, winner\n\n\ndef deborda(array):\n    res_deborda ={}\n    for element in list_of_candidates_start:\n        res_deborda[element] = 0\n        for row in array[1:]:\n            sum=0\n            indexes_list = [index for index in range(len(row)) if row[index] == element]\n            for pos in indexes_list:\n                sum+=row[0]*array[0][pos]\n            res_deborda[element]+=sum\n    winner_value = max(res_deborda.values())\n    winner =  list(res_deborda.keys())[list(res_deborda.values()).index(winner_value)]\n    return res_deborda, winner\n\ndef koplend(array):\n    res = kondorse(array)[0]\n    kollend_arr ={}\n    for element in list_of_candidates_start:\n        kollend_arr[element] = 0\n        for value in res[element]:\n            if value>0:\n                if value > all_cand/2:\n                    kollend_arr[element] += 1\n                elif value < all_cand / 2:\n                    kollend_arr[element] -= 1\n    winner_value = max(kollend_arr.values())\n    winner = list(kollend_arr.keys())[list(kollend_arr.values()).index(winner_value)]\n    return kollend_arr, winner\n\ndef simmpson(array):\n    res = kondorse(array)[0]\n    simps_dict={}\n    for element in list_of_candidates_start:\n        simps_dict[element] = 0\n        for key in res.keys():\n            if key == element:\n                min_num = min(num for num in res[key] if num != 0)\n                simps_dict[element] =min_num\n    winner_value = max(simps_dict.values())\n    winner = list(simps_dict.keys())[list(simps_dict.values()).index(winner_value)]\n    return simps_dict, winner\n\n\n\nprint(\"Переможець за критерієм відносної більшості:\", vidnosna_bilshist(main_arr))\nprint(\"Переможець критерієм Кондорсе: \", kondorse(main_arr))\nprint(\"Переможець критерієм Де Борда: \", deborda(main_arr))\nprint(\"Переможець критерієм Копленда: \", koplend(main_arr))\nprint(\"Переможець критерієм Сіпмсона: \", simmpson(main_arr))\n\n\n",
      "metadata": {
        "trusted": true
      },
      "execution_count": 1,
      "outputs": [
        {
          "name": "stdout",
          "text": "Переможець за критерієм відносної більшості: ({'a': 10, 'b': 5, 'c': 9, 'd': 24, 'e': 15}, 'd')\nПереможець критерієм Кондорсе:  ({'a': [0, 30, 21, 10, 23], 'b': [33, 0, 39, 15, 28], 'c': [42, 24, 0, 19, 25], 'd': [53, 48, 44, 0, 41], 'e': [40, 35, 38, 22, 0]}, 'e')\nПереможець критерієм Де Борда:  ({'a': 84, 'b': 115, 'c': 110, 'd': 186, 'e': 135}, 'd')\nПереможець критерієм Копленда:  ({'a': 4, 'b': 4, 'c': 4, 'd': 4, 'e': 4}, 'a')\nПереможець критерієм Сіпмсона:  ({'a': 10, 'b': 15, 'c': 19, 'd': 41, 'e': 22}, 'd')\n",
          "output_type": "stream"
        }
      ]
    },
    {
      "cell_type": "code",
      "source": "",
      "metadata": {},
      "execution_count": null,
      "outputs": []
    }
  ]
}