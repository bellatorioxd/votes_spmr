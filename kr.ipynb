{
  "metadata": {
    "language_info": {
      "codemirror_mode": {
        "name": "python",
        "version": 3
      },
      "file_extension": ".py",
      "mimetype": "text/x-python",
      "name": "python",
      "nbconvert_exporter": "python",
      "pygments_lexer": "ipython3",
      "version": "3.8"
    },
    "kernelspec": {
      "name": "python",
      "display_name": "Python (Pyodide)",
      "language": "python"
    }
  },
  "nbformat_minor": 4,
  "nbformat": 4,
  "cells": [
    {
      "cell_type": "code",
      "source": "\nlist_of_candidates_start=[\"a\", \"b\", \"c\", \"d\"]\nmain_arr=[\n    [\"\", 2, 5, 5, 7],\n    [3, \"a\", \"b\", \"c\", \"d\"],\n    [2, \"b\", \"d\", \"a\", \"a\"],\n    [1, \"c\", \"c\", \"d\", \"c\"],\n    [0, \"d\", \"a\", \"b\", \"b\"]]\n\nall_cand = 19\n\ndef vidnosna_bilshist(array):\n    points = array[1][0]\n    list_of_candidates=array[1][1:]\n    res={}\n    for element in list_of_candidates_start:\n        res[element] = 0\n        i=0\n        for elem in list_of_candidates:\n                if elem == element:\n                    res[element]+=array[0][i+1]\n                i+=1\n    winner_value=max(res.values())\n    winner = list(res.keys())[list(res.values()).index(winner_value)]\n    return res, winner\n\ndef kondorse(array):\n    kondorse_dict={}\n    new_array=[]\n    columns=[]\n    for elem in array:\n        new_array.append(elem[1:])\n    for i in range(0, len(new_array[0])):\n        one_col=[]\n        for elem in new_array:\n            one_col.append(elem[i])\n        columns.append(one_col)\n    for element in list_of_candidates_start:\n        kondorse_dict[element] = []\n    def compare_two( elem_1,elem_2):\n        res_1_more_2 = 0\n        res_2_more_1 = 0\n        for col in columns:\n            if col.index(elem_1) < col.index(elem_2):\n                res_1_more_2 += col[0]\n            elif col.index(elem_1) > col.index(elem_2):\n                res_2_more_1 +=col[0]\n        return res_1_more_2\n    for elem in list_of_candidates_start:\n        combinations_lst = [(elem, item) for item in list_of_candidates_start]\n        for pair in combinations_lst:\n            kondorse_dict[elem].append(compare_two(pair[0], pair[1]))\n    for value in kondorse_dict.values():\n        if all(num > all_cand/2 or num==0 for num in value):\n            winner = list(kondorse_dict.keys())[list(kondorse_dict.values()).index(value)]\n    return kondorse_dict, winner\n\n\ndef deborda(array):\n    res_deborda ={}\n    for element in list_of_candidates_start:\n        res_deborda[element] = 0\n        for row in array[1:]:\n            sum=0\n            indexes_list = [index for index in range(len(row)) if row[index] == element]\n            for pos in indexes_list:\n                sum+=row[0]*array[0][pos]\n            res_deborda[element]+=sum\n    winner_value = max(res_deborda.values())\n    winner =  list(res_deborda.keys())[list(res_deborda.values()).index(winner_value)]\n    return res_deborda, winner\n\ndef koplend(array):\n    res = kondorse(array)[0]\n    kollend_arr ={}\n    for element in list_of_candidates_start:\n        kollend_arr[element] = 0\n        for value in res[element]:\n            if value>0:\n                if value > all_cand/2:\n                    kollend_arr[element] += 1\n                elif value < all_cand / 2:\n                    kollend_arr[element] -= 1\n    winner_value = max(kollend_arr.values())\n    winner = list(kollend_arr.keys())[list(kollend_arr.values()).index(winner_value)]\n    return kollend_arr, winner\n\ndef simmpson(array):\n    res = kondorse(array)[0]\n    simps_dict={}\n    for element in list_of_candidates_start:\n        simps_dict[element] = 0\n        for key in res.keys():\n            if key == element:\n                min_num = min(num for num in res[key] if num != 0)\n                simps_dict[element] =min_num\n    winner_value = max(simps_dict.values())\n    winner = list(simps_dict.keys())[list(simps_dict.values()).index(winner_value)]\n    return simps_dict, winner\n\n\n\nprint(\"Переможець за критерієм відносної більшості:\", vidnosna_bilshist(main_arr))\nprint(\"Переможець критерієм Кондорсе: \", kondorse(main_arr))\nprint(\"Переможець критерієм Де Борда: \", deborda(main_arr))\nprint(\"Переможець критерієм Копленда: \", koplend(main_arr))\nprint(\"Переможець критерієм Сіпмсона: \", simmpson(main_arr))\n\n\n\n\n\n\n\n\n\n",
      "metadata": {
        "trusted": true
      },
      "execution_count": 1,
      "outputs": [
        {
          "name": "stdout",
          "text": "Переможець за критерієм відносної більшості: ({'a': 2, 'b': 5, 'c': 5, 'd': 7}, 'd')\nПереможець критерієм Кондорсе:  ({'a': [0, 14, 9, 7], 'b': [5, 0, 7, 7], 'c': [10, 12, 0, 7], 'd': [12, 12, 12, 0]}, 'd')\nПереможець критерієм Де Борда:  ({'a': 30, 'b': 19, 'c': 29, 'd': 36}, 'd')\nПереможець критерієм Копленда:  ({'a': -1, 'b': -3, 'c': 1, 'd': 3}, 'd')\nПереможець критерієм Сіпмсона:  ({'a': 7, 'b': 5, 'c': 7, 'd': 12}, 'd')\n",
          "output_type": "stream"
        }
      ]
    },
    {
      "cell_type": "code",
      "source": "",
      "metadata": {},
      "execution_count": null,
      "outputs": []
    }
  ]
}